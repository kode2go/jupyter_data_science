{
 "cells": [
  {
   "cell_type": "markdown",
   "id": "d78f613e-a803-485c-bb54-92091abf674a",
   "metadata": {},
   "source": [
    "### Load in required packages"
   ]
  },
  {
   "cell_type": "code",
   "execution_count": 1,
   "id": "a8b1f871-0a84-4df7-80de-2e438265f662",
   "metadata": {
    "executionTime": 694,
    "lastSuccessfullyExecutedCode": "import pandas as pd\nfrom datetime import datetime, timedelta\nimport plotly.express as px"
   },
   "outputs": [],
   "source": [
    "import pandas as pd\n",
    "from datetime import datetime, timedelta\n",
    "import plotly.express as px"
   ]
  },
  {
   "cell_type": "code",
   "execution_count": null,
   "id": "inclusive-leeds",
   "metadata": {
    "executionTime": 148,
    "lastSuccessfullyExecutedCode": "# Import CSV with renamed columns\ndf = pd.read_csv('data/seoul_bike_data_renamed.csv')\n    \n# Clean up some columns\ndf[\"date\"] = pd.to_datetime(df[\"date\"], format=\"%d/%m/%Y\")\ndf[\"datetime\"] = df.apply(\n    lambda row: row[\"date\"] + timedelta(hours=row[\"hour\"]), axis=1\n)\ndf[\"is_holiday\"] = df[\"is_holiday\"].map({\"No Holiday\": False, \"Holiday\": True})\n\n# Similar to is_holiday, map is_functioning to True and False\n\n\n# Only keep observations where the system is functioning\n\n\n# Print out the result\n"
   },
   "outputs": [],
   "source": [
    "# Import CSV with renamed columns\n",
    "\n",
    "    \n",
    "# Clean up some columns\n",
    "\n",
    "\n",
    "# Similar to is_holiday, map is_functioning to True and False\n",
    "\n",
    "\n",
    "# Only keep observations where the system is functioning\n",
    "\n",
    "\n",
    "# Print out the result\n"
   ]
  },
  {
   "cell_type": "markdown",
   "id": "da13ac55-b021-48fb-aadf-b8b6cb549439",
   "metadata": {},
   "source": [
    "### Visualize bike rentals over time"
   ]
  },
  {
   "cell_type": "code",
   "execution_count": 3,
   "id": "4c2ecd0e-d008-4f81-aa11-34d0ba4c597a",
   "metadata": {
    "executionTime": 0,
    "lastSuccessfullyExecutedCode": "# Create a line plot of rented bikes over time\n"
   },
   "outputs": [],
   "source": [
    "# Create a line plot of rented bikes over time\n"
   ]
  },
  {
   "cell_type": "code",
   "execution_count": 4,
   "id": "7ae499f7-15a6-4f73-b6ce-6272c877a037",
   "metadata": {
    "executionTime": 0,
    "lastSuccessfullyExecutedCode": "# Calculate the total number of rented bikes per day\nby_day = df \\\n\t.groupby(by=\"date\", as_index=False) \\\n\t.sum(\"n_rented_bikes\") \\\n\t[[\"date\", \"n_rented_bikes\"]]\n\n# Create a line plot showing total number of bikes per day over time\n"
   },
   "outputs": [],
   "source": [
    "# Calculate the total number of rented bikes per day\n",
    "\n",
    "\n",
    "# Create a line plot showing total number of bikes per day over time\n"
   ]
  },
  {
   "cell_type": "code",
   "execution_count": 5,
   "id": "811929f1-076b-43e7-8143-ae28de7ab64a",
   "metadata": {
    "executionTime": 103,
    "lastSuccessfullyExecutedCode": "# Copy the previous chain of manipulations and add season as a variable to group by\n\n\n# Copy the code for the previous line plot and map season to color\n"
   },
   "outputs": [],
   "source": [
    "# Copy the previous chain of manipulations and add season as a variable to group by\n",
    "\n",
    "\n",
    "# Copy the code for the previous line plot and map season to color\n"
   ]
  },
  {
   "cell_type": "markdown",
   "id": "fe2712f4-b911-4959-bd30-4b3d8459e587",
   "metadata": {},
   "source": [
    "### Explore the relation between weather and rentals"
   ]
  },
  {
   "cell_type": "code",
   "execution_count": 6,
   "id": "3c680f09-0f2a-498b-b995-03dbfa0062b1",
   "metadata": {
    "executionTime": 0,
    "lastSuccessfullyExecutedCode": "# Query df to only keep observations at noon\n\n\n# Create a scatter plot showing temperature against number of rented bikes\n# Add a trendline if you feel like it\n"
   },
   "outputs": [],
   "source": [
    "# Query df to only keep observations at noon\n",
    "\n",
    "\n",
    "# Create a scatter plot showing temperature against number of rented bikes\n",
    "# Add a trendline if you feel like it\n"
   ]
  },
  {
   "cell_type": "code",
   "execution_count": 7,
   "id": "96d0e5a5-7712-41ce-b8a1-7d14a38cc4b7",
   "metadata": {
    "executionTime": 0,
    "lastSuccessfullyExecutedCode": "# Copy and update the code for the previous scatter plot \n# to investigate relation with other weather parameters\n"
   },
   "outputs": [],
   "source": [
    "# Copy and update the code for the previous scatter plot \n",
    "# to investigate relation with other weather parameters\n"
   ]
  },
  {
   "cell_type": "markdown",
   "id": "b564d1b0-e4b6-41bd-9431-3e9eed26f5ac",
   "metadata": {},
   "source": [
    "### Explore typical daily usage pattern"
   ]
  },
  {
   "cell_type": "code",
   "execution_count": 8,
   "id": "fe90bc03-5e5f-46ce-8f0a-630f340d878c",
   "metadata": {
    "executionTime": 0,
    "lastSuccessfullyExecutedCode": "# Calculate the average number of rented bikes per hour\n\n\n# Create a bar chart showing the usage pattern\n"
   },
   "outputs": [],
   "source": [
    "# Calculate the average number of rented bikes per hour\n",
    "\n",
    "\n",
    "# Create a bar chart showing the usage pattern\n"
   ]
  },
  {
   "cell_type": "code",
   "execution_count": 9,
   "id": "5c878f28-9d44-4077-b548-63e8d4034625",
   "metadata": {
    "executionTime": 0,
    "lastSuccessfullyExecutedCode": "# Copy and adapt the previous query to take into account the season\n\n\n# Copy and adapt the code for the previous bar chart to show usage pattern per season\n"
   },
   "outputs": [],
   "source": [
    "# Copy and adapt the previous query to take into account the season\n",
    "\n",
    "\n",
    "# Copy and adapt the code for the previous bar chart to show usage pattern per season\n"
   ]
  },
  {
   "cell_type": "markdown",
   "id": "b0a5a7df-d4da-4641-aae8-dee5f28e7592",
   "metadata": {},
   "source": [
    "### Extra: is New Year's Eve different?"
   ]
  },
  {
   "cell_type": "code",
   "execution_count": 10,
   "id": "b0f899fd-ddab-40c9-882c-806409fcf890",
   "metadata": {
    "executionTime": 28,
    "lastSuccessfullyExecutedCode": "# New Years dates\nnew_years_start = datetime(2017, 12, 31, 12)\nnew_years_end = datetime(2018, 1, 1, 12)\n\n# Create data frame with new year's data\n\n\n# Show usage pattern\n"
   },
   "outputs": [],
   "source": [
    "# New Years dates\n",
    "\n",
    "\n",
    "# Create data frame with new year's data\n",
    "\n",
    "\n",
    "# Show usage pattern\n"
   ]
  }
 ],
 "metadata": {
  "colab": {
   "name": "Welcome to DataCamp Workspaces.ipynb",
   "provenance": []
  },
  "editor": "DataCamp Workspace",
  "kernelspec": {
   "display_name": "base",
   "language": "python",
   "name": "python3"
  },
  "language_info": {
   "codemirror_mode": {
    "name": "ipython",
    "version": 3
   },
   "file_extension": ".py",
   "mimetype": "text/x-python",
   "name": "python",
   "nbconvert_exporter": "python",
   "pygments_lexer": "ipython3",
   "version": "3.12.3"
  },
  "varInspector": {
   "cols": {
    "lenName": 16,
    "lenType": 16,
    "lenVar": 40
   },
   "kernels_config": {
    "python": {
     "delete_cmd_postfix": "",
     "delete_cmd_prefix": "del ",
     "library": "var_list.py",
     "varRefreshCmd": "print(var_dic_list())"
    },
    "r": {
     "delete_cmd_postfix": ") ",
     "delete_cmd_prefix": "rm(",
     "library": "var_list.r",
     "varRefreshCmd": "cat(var_dic_list()) "
    }
   },
   "types_to_exclude": [
    "module",
    "function",
    "builtin_function_or_method",
    "instance",
    "_Feature"
   ],
   "window_display": false
  }
 },
 "nbformat": 4,
 "nbformat_minor": 5
}
